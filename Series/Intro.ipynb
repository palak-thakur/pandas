{
 "cells": [
  {
   "cell_type": "code",
   "execution_count": 1,
   "id": "12c731e8",
   "metadata": {},
   "outputs": [],
   "source": [
    "import numpy as np\n",
    "import pandas as pd"
   ]
  },
  {
   "cell_type": "code",
   "execution_count": 30,
   "id": "dd895054",
   "metadata": {},
   "outputs": [
    {
     "data": {
      "text/plain": [
       "a    1\n",
       "b    2\n",
       "c    3\n",
       "d    4\n",
       "e    5\n",
       "f    6\n",
       "g    7\n",
       "Name: My_Series, dtype: int64"
      ]
     },
     "execution_count": 30,
     "metadata": {},
     "output_type": "execute_result"
    }
   ],
   "source": [
    "#series with list\n",
    "ser= pd.Series([1, 2, 3, 4, 5, 6, 7], index=['a', 'b', 'c', 'd', 'e', 'f', 'g'], name= \"My_Series\")\n",
    "ser"
   ]
  },
  {
   "cell_type": "code",
   "execution_count": 7,
   "id": "a8ecc611",
   "metadata": {},
   "outputs": [
    {
     "data": {
      "text/plain": [
       "0    1\n",
       "1    2\n",
       "2    3\n",
       "3    4\n",
       "dtype: int32"
      ]
     },
     "execution_count": 7,
     "metadata": {},
     "output_type": "execute_result"
    }
   ],
   "source": [
    "#series with array\n",
    "ser1= pd.Series(np.array([1, 2, 3, 4]))\n",
    "ser1"
   ]
  },
  {
   "cell_type": "code",
   "execution_count": 8,
   "id": "f78191c5",
   "metadata": {},
   "outputs": [
    {
     "data": {
      "text/plain": [
       "a    1\n",
       "b    2\n",
       "c    3\n",
       "dtype: int64"
      ]
     },
     "execution_count": 8,
     "metadata": {},
     "output_type": "execute_result"
    }
   ],
   "source": [
    "#series with dictionary\n",
    "dc= {'a':1, 'b':2, 'c':3}\n",
    "ser2= pd.Series(dc)\n",
    "ser2"
   ]
  },
  {
   "cell_type": "code",
   "execution_count": 20,
   "id": "28f4b0fc",
   "metadata": {},
   "outputs": [
    {
     "data": {
      "text/plain": [
       "x    3\n",
       "y    3\n",
       "z    3\n",
       "dtype: int64"
      ]
     },
     "execution_count": 20,
     "metadata": {},
     "output_type": "execute_result"
    }
   ],
   "source": [
    "#series with scalar value\n",
    "ser3= pd.Series(3, index=['x', 'y', 'z'])\n",
    "ser3"
   ]
  },
  {
   "cell_type": "code",
   "execution_count": 65,
   "id": "a4ffb2a1",
   "metadata": {},
   "outputs": [
    {
     "name": "stdout",
     "output_type": "stream",
     "text": [
      "a    20\n",
      "b     2\n",
      "c     0\n",
      "d    12\n",
      "e    30\n",
      "f    33\n",
      "g     7\n",
      "h    10\n",
      "Name: My_Series, dtype: int64\n",
      "8\n",
      "Index(['a', 'b', 'c', 'd', 'e', 'f', 'g', 'h'], dtype='object')\n",
      "int64\n",
      "My_Series\n",
      "20\n",
      "20\n",
      "(8,)\n"
     ]
    }
   ],
   "source": [
    "#attributes of Series\n",
    "print(ser)\n",
    "print(ser.size) #number of rows\n",
    "print(ser.index) #value of index\n",
    "print(ser.dtype) #datatype\n",
    "print(ser.name)  #name of series\n",
    "print(ser['a'])  #value at specified index\n",
    "print(ser.a)   #this can be used when index is single valued\n",
    "print(ser.shape)\n"
   ]
  },
  {
   "cell_type": "code",
   "execution_count": 27,
   "id": "c0b7882e",
   "metadata": {},
   "outputs": [
    {
     "data": {
      "text/plain": [
       "1"
      ]
     },
     "execution_count": 27,
     "metadata": {},
     "output_type": "execute_result"
    }
   ],
   "source": [
    "#to access single Element from series with index\n",
    "#at\n",
    "ser.at['a']"
   ]
  },
  {
   "cell_type": "code",
   "execution_count": 28,
   "id": "7887b33a",
   "metadata": {},
   "outputs": [
    {
     "data": {
      "text/plain": [
       "2"
      ]
     },
     "execution_count": 28,
     "metadata": {},
     "output_type": "execute_result"
    }
   ],
   "source": [
    "#to access single element through numeric index\n",
    "#iat\n",
    "ser.iat[1]"
   ]
  },
  {
   "cell_type": "code",
   "execution_count": 39,
   "id": "24f322f3",
   "metadata": {},
   "outputs": [
    {
     "data": {
      "text/plain": [
       "b    2\n",
       "f    6\n",
       "g    7\n",
       "Name: My_Series, dtype: int64"
      ]
     },
     "execution_count": 39,
     "metadata": {},
     "output_type": "execute_result"
    }
   ],
   "source": [
    "#to access portion of series\n",
    "#loc\n",
    "ser.loc[['b', 'd', 'a', 'f']] #the elements are accessed in same order as defined \n",
    "ser.loc['b':'d'] #using slice, here last element is included\n",
    "ser.loc[[False, True, False, False, False, True, True]] #give True values"
   ]
  },
  {
   "cell_type": "code",
   "execution_count": 46,
   "id": "58945c3a",
   "metadata": {},
   "outputs": [
    {
     "data": {
      "text/plain": [
       "b    2\n",
       "f    6\n",
       "g    7\n",
       "Name: My_Series, dtype: int64"
      ]
     },
     "execution_count": 46,
     "metadata": {},
     "output_type": "execute_result"
    }
   ],
   "source": [
    "#to access portion of series with numeric index\n",
    "#iloc\n",
    "ser.iloc[[1, 4, 6, 2]]  #using list of numeric index\n",
    "ser.iloc[2:5] #using slice, last element is included\n",
    "ser.iloc[[False, True, False, False, False, True, True]] #give True values"
   ]
  },
  {
   "cell_type": "code",
   "execution_count": 51,
   "id": "436fff48",
   "metadata": {},
   "outputs": [
    {
     "data": {
      "text/plain": [
       "a     True\n",
       "b     True\n",
       "c    False\n",
       "d    False\n",
       "e    False\n",
       "f    False\n",
       "g    False\n",
       "Name: My_Series, dtype: bool"
      ]
     },
     "execution_count": 51,
     "metadata": {},
     "output_type": "execute_result"
    }
   ],
   "source": [
    "#operations on series\n",
    "#these operations will give new series\n",
    "#we can use +, -, /, //, *, **, >, <, <=, >=, !=, ==\n",
    "ser+2 \n",
    "ser-2\n",
    "ser/2\n",
    "ser//2\n",
    "ser<3 #boolean series"
   ]
  },
  {
   "cell_type": "code",
   "execution_count": 56,
   "id": "de6134f4",
   "metadata": {},
   "outputs": [
    {
     "data": {
      "text/plain": [
       "a    20\n",
       "b     2\n",
       "c     3\n",
       "d     4\n",
       "e     5\n",
       "f     6\n",
       "g     7\n",
       "Name: My_Series, dtype: int64"
      ]
     },
     "execution_count": 56,
     "metadata": {},
     "output_type": "execute_result"
    }
   ],
   "source": [
    "#changing value of series\n",
    "ser.at['a']= 20\n",
    "ser"
   ]
  },
  {
   "cell_type": "code",
   "execution_count": 58,
   "id": "20395424",
   "metadata": {},
   "outputs": [
    {
     "data": {
      "text/plain": [
       "a    20\n",
       "b     2\n",
       "c     3\n",
       "d     4\n",
       "e     5\n",
       "f     6\n",
       "g     7\n",
       "h    10\n",
       "Name: My_Series, dtype: int64"
      ]
     },
     "execution_count": 58,
     "metadata": {},
     "output_type": "execute_result"
    }
   ],
   "source": [
    "#add new value in series\n",
    "ser.at['h']= 10\n",
    "ser"
   ]
  },
  {
   "cell_type": "code",
   "execution_count": 61,
   "id": "21930a5d",
   "metadata": {},
   "outputs": [
    {
     "data": {
      "text/plain": [
       "a    20\n",
       "b     2\n",
       "c     0\n",
       "d    12\n",
       "e    30\n",
       "f    33\n",
       "g     7\n",
       "h    10\n",
       "Name: My_Series, dtype: int64"
      ]
     },
     "execution_count": 61,
     "metadata": {},
     "output_type": "execute_result"
    }
   ],
   "source": [
    "#changing value of a slice\n",
    "ser.loc['c':'f']= 6\n",
    "ser.loc['c':'f']= [0, 12, 30, 33]\n",
    "ser"
   ]
  },
  {
   "cell_type": "code",
   "execution_count": 77,
   "id": "c32a3468",
   "metadata": {},
   "outputs": [
    {
     "data": {
      "text/plain": [
       "0    5.0\n",
       "1    8.0\n",
       "2    NaN\n",
       "3    9.0\n",
       "4    NaN\n",
       "5    3.0\n",
       "6    8.0\n",
       "7    9.0\n",
       "dtype: float64"
      ]
     },
     "execution_count": 77,
     "metadata": {},
     "output_type": "execute_result"
    }
   ],
   "source": [
    "#NaN value\n",
    "#NaN is a float value\n",
    "ser2= pd.Series([5, 8, np.NaN, 9, np.NaN, 3, 8, 9])\n",
    "ser2\n"
   ]
  },
  {
   "cell_type": "code",
   "execution_count": 76,
   "id": "9c8b1ff2",
   "metadata": {},
   "outputs": [
    {
     "data": {
      "text/plain": [
       "3"
      ]
     },
     "execution_count": 76,
     "metadata": {},
     "output_type": "execute_result"
    }
   ],
   "source": [
    "#count\n",
    "ser2.count() #give count of non nan values\n"
   ]
  },
  {
   "cell_type": "code",
   "execution_count": 78,
   "id": "af4169e0",
   "metadata": {},
   "outputs": [
    {
     "data": {
      "text/plain": [
       "array([ 5.,  8., nan,  9.,  3.])"
      ]
     },
     "execution_count": 78,
     "metadata": {},
     "output_type": "execute_result"
    }
   ],
   "source": [
    "#unique\n",
    "ser2.unique() #give non repeated array"
   ]
  },
  {
   "cell_type": "code",
   "execution_count": 79,
   "id": "0b97ef90",
   "metadata": {},
   "outputs": [
    {
     "data": {
      "text/plain": [
       "4"
      ]
     },
     "execution_count": 79,
     "metadata": {},
     "output_type": "execute_result"
    }
   ],
   "source": [
    "#nunique\n",
    "ser2.nunique() #count of unique and non NAn values"
   ]
  },
  {
   "cell_type": "code",
   "execution_count": 74,
   "id": "5ddf1c5b",
   "metadata": {},
   "outputs": [
    {
     "data": {
      "text/plain": [
       "0     4\n",
       "1    25\n",
       "2    49\n",
       "3    81\n",
       "dtype: int64"
      ]
     },
     "execution_count": 74,
     "metadata": {},
     "output_type": "execute_result"
    }
   ],
   "source": [
    "#apply\n",
    "ser1= pd.Series([2, 5, 7, 9])\n",
    "ser1.apply(lambda x: x**2) #return new series"
   ]
  },
  {
   "cell_type": "code",
   "execution_count": null,
   "id": "dff076b2",
   "metadata": {},
   "outputs": [],
   "source": [
    "#"
   ]
  }
 ],
 "metadata": {
  "kernelspec": {
   "display_name": "Python 3 (ipykernel)",
   "language": "python",
   "name": "python3"
  },
  "language_info": {
   "codemirror_mode": {
    "name": "ipython",
    "version": 3
   },
   "file_extension": ".py",
   "mimetype": "text/x-python",
   "name": "python",
   "nbconvert_exporter": "python",
   "pygments_lexer": "ipython3",
   "version": "3.9.12"
  }
 },
 "nbformat": 4,
 "nbformat_minor": 5
}
