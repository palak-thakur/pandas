{
 "cells": [
  {
   "cell_type": "code",
   "execution_count": 2,
   "id": "bd11cc01",
   "metadata": {},
   "outputs": [],
   "source": [
    "import numpy as np\n",
    "import pandas as pd"
   ]
  },
  {
   "cell_type": "code",
   "execution_count": 23,
   "id": "562b6b29",
   "metadata": {},
   "outputs": [
    {
     "data": {
      "text/plain": [
       "A    1\n",
       "B    2\n",
       "C    3\n",
       "D    4\n",
       "E    5\n",
       "F    6\n",
       "dtype: int32"
      ]
     },
     "execution_count": 23,
     "metadata": {},
     "output_type": "execute_result"
    }
   ],
   "source": [
    "ser= pd.Series(np.arange(1,7), index= list(\"ABCDEF\"))\n",
    "ser"
   ]
  },
  {
   "cell_type": "code",
   "execution_count": 24,
   "id": "e3d58567",
   "metadata": {},
   "outputs": [
    {
     "data": {
      "text/plain": [
       "3.5"
      ]
     },
     "execution_count": 24,
     "metadata": {},
     "output_type": "execute_result"
    }
   ],
   "source": [
    "#numpy fn on series\n",
    "np.mean(ser) #mean of series\n",
    "np.median(ser) #median of series\n",
    "np.amax(ser) #max of series"
   ]
  },
  {
   "cell_type": "code",
   "execution_count": 27,
   "id": "c21c5031",
   "metadata": {},
   "outputs": [
    {
     "data": {
      "text/plain": [
       "amin    1.0\n",
       "amax    6.0\n",
       "mean    3.5\n",
       "dtype: float64"
      ]
     },
     "execution_count": 27,
     "metadata": {},
     "output_type": "execute_result"
    }
   ],
   "source": [
    "#applying multiple functions \n",
    "ser.agg([np.min, np.max, np.mean])"
   ]
  },
  {
   "cell_type": "code",
   "execution_count": 28,
   "id": "9fbc4bc6",
   "metadata": {},
   "outputs": [
    {
     "data": {
      "text/html": [
       "<div>\n",
       "<style scoped>\n",
       "    .dataframe tbody tr th:only-of-type {\n",
       "        vertical-align: middle;\n",
       "    }\n",
       "\n",
       "    .dataframe tbody tr th {\n",
       "        vertical-align: top;\n",
       "    }\n",
       "\n",
       "    .dataframe thead th {\n",
       "        text-align: right;\n",
       "    }\n",
       "</style>\n",
       "<table border=\"1\" class=\"dataframe\">\n",
       "  <thead>\n",
       "    <tr style=\"text-align: right;\">\n",
       "      <th></th>\n",
       "      <th>A</th>\n",
       "      <th>B</th>\n",
       "    </tr>\n",
       "  </thead>\n",
       "  <tbody>\n",
       "    <tr>\n",
       "      <th>A</th>\n",
       "      <td>1</td>\n",
       "      <td>2</td>\n",
       "    </tr>\n",
       "    <tr>\n",
       "      <th>B</th>\n",
       "      <td>4</td>\n",
       "      <td>3</td>\n",
       "    </tr>\n",
       "    <tr>\n",
       "      <th>C</th>\n",
       "      <td>9</td>\n",
       "      <td>4</td>\n",
       "    </tr>\n",
       "    <tr>\n",
       "      <th>D</th>\n",
       "      <td>16</td>\n",
       "      <td>5</td>\n",
       "    </tr>\n",
       "    <tr>\n",
       "      <th>E</th>\n",
       "      <td>25</td>\n",
       "      <td>6</td>\n",
       "    </tr>\n",
       "    <tr>\n",
       "      <th>F</th>\n",
       "      <td>36</td>\n",
       "      <td>7</td>\n",
       "    </tr>\n",
       "  </tbody>\n",
       "</table>\n",
       "</div>"
      ],
      "text/plain": [
       "    A  B\n",
       "A   1  2\n",
       "B   4  3\n",
       "C   9  4\n",
       "D  16  5\n",
       "E  25  6\n",
       "F  36  7"
      ]
     },
     "execution_count": 28,
     "metadata": {},
     "output_type": "execute_result"
    }
   ],
   "source": [
    "#creating dataframe by applying functions on series\n",
    "#transform\n",
    "ser.transform({'A':lambda x:x**2, 'B': lambda x: x+1})"
   ]
  },
  {
   "cell_type": "code",
   "execution_count": 29,
   "id": "dd5a9a85",
   "metadata": {},
   "outputs": [
    {
     "data": {
      "text/html": [
       "<div>\n",
       "<style scoped>\n",
       "    .dataframe tbody tr th:only-of-type {\n",
       "        vertical-align: middle;\n",
       "    }\n",
       "\n",
       "    .dataframe tbody tr th {\n",
       "        vertical-align: top;\n",
       "    }\n",
       "\n",
       "    .dataframe thead th {\n",
       "        text-align: right;\n",
       "    }\n",
       "</style>\n",
       "<table border=\"1\" class=\"dataframe\">\n",
       "  <thead>\n",
       "    <tr style=\"text-align: right;\">\n",
       "      <th></th>\n",
       "      <th>square</th>\n",
       "      <th>sqr_root</th>\n",
       "    </tr>\n",
       "  </thead>\n",
       "  <tbody>\n",
       "    <tr>\n",
       "      <th>A</th>\n",
       "      <td>1</td>\n",
       "      <td>1.000000</td>\n",
       "    </tr>\n",
       "    <tr>\n",
       "      <th>B</th>\n",
       "      <td>4</td>\n",
       "      <td>1.414214</td>\n",
       "    </tr>\n",
       "    <tr>\n",
       "      <th>C</th>\n",
       "      <td>9</td>\n",
       "      <td>1.732051</td>\n",
       "    </tr>\n",
       "    <tr>\n",
       "      <th>D</th>\n",
       "      <td>16</td>\n",
       "      <td>2.000000</td>\n",
       "    </tr>\n",
       "    <tr>\n",
       "      <th>E</th>\n",
       "      <td>25</td>\n",
       "      <td>2.236068</td>\n",
       "    </tr>\n",
       "    <tr>\n",
       "      <th>F</th>\n",
       "      <td>36</td>\n",
       "      <td>2.449490</td>\n",
       "    </tr>\n",
       "  </tbody>\n",
       "</table>\n",
       "</div>"
      ],
      "text/plain": [
       "   square  sqr_root\n",
       "A       1  1.000000\n",
       "B       4  1.414214\n",
       "C       9  1.732051\n",
       "D      16  2.000000\n",
       "E      25  2.236068\n",
       "F      36  2.449490"
      ]
     },
     "execution_count": 29,
     "metadata": {},
     "output_type": "execute_result"
    }
   ],
   "source": [
    "#transform\n",
    "def square(x):\n",
    "    return x**2\n",
    "def sqr_root(x):\n",
    "    return x**0.5\n",
    "ser.transform([square, sqr_root])"
   ]
  },
  {
   "cell_type": "code",
   "execution_count": 34,
   "id": "e215d92b",
   "metadata": {},
   "outputs": [
    {
     "data": {
      "text/plain": [
       "A    2.0\n",
       "B    7.0\n",
       "C    4.0\n",
       "D    8.0\n",
       "E    9.0\n",
       "F    NaN\n",
       "dtype: float64"
      ]
     },
     "execution_count": 34,
     "metadata": {},
     "output_type": "execute_result"
    }
   ],
   "source": [
    "ser1= pd.Series([2, 7, 4, 8, 9, np.NaN], index= list(\"ABCDEF\"))\n",
    "ser1"
   ]
  },
  {
   "cell_type": "code",
   "execution_count": 36,
   "id": "e8e39580",
   "metadata": {},
   "outputs": [
    {
     "data": {
      "text/plain": [
       "A     3.0\n",
       "B     9.0\n",
       "C     7.0\n",
       "D    12.0\n",
       "E    14.0\n",
       "F     6.0\n",
       "dtype: float64"
      ]
     },
     "execution_count": 36,
     "metadata": {},
     "output_type": "execute_result"
    }
   ],
   "source": [
    "#adding 2 series \n",
    "#handling nan val\n",
    "#fill_value\n",
    "ser.add(ser1, fill_value=0) #changes nan value to 0\n",
    "#.sub, .mul, .div"
   ]
  },
  {
   "cell_type": "code",
   "execution_count": 38,
   "id": "92686107",
   "metadata": {},
   "outputs": [
    {
     "data": {
      "text/plain": [
       "A    1.0\n",
       "B    5.0\n",
       "C    1.0\n",
       "D    4.0\n",
       "E    4.0\n",
       "F    NaN\n",
       "dtype: float64"
      ]
     },
     "execution_count": 38,
     "metadata": {},
     "output_type": "execute_result"
    }
   ],
   "source": [
    "ser.sub(ser1)  #ser-ser1\n",
    "ser.rsub(ser1) #ser1- ser"
   ]
  },
  {
   "cell_type": "code",
   "execution_count": 39,
   "id": "e3acf721",
   "metadata": {},
   "outputs": [
    {
     "data": {
      "text/plain": [
       "A    2\n",
       "B    7\n",
       "C    4\n",
       "D    8\n",
       "E    9\n",
       "F    6\n",
       "dtype: int32"
      ]
     },
     "execution_count": 39,
     "metadata": {},
     "output_type": "execute_result"
    }
   ],
   "source": [
    "#combine two series\n",
    "ser.combine(ser1, max) #give new series by choosing max values from both series"
   ]
  },
  {
   "cell_type": "code",
   "execution_count": 41,
   "id": "598098b5",
   "metadata": {},
   "outputs": [
    {
     "data": {
      "text/plain": [
       "0    2.5\n",
       "1    6.9\n",
       "dtype: float64"
      ]
     },
     "execution_count": 41,
     "metadata": {},
     "output_type": "execute_result"
    }
   ],
   "source": [
    "#round\n",
    "ser2= pd.Series([2.459, 6.93])\n",
    "ser2.round(decimals=1)"
   ]
  },
  {
   "cell_type": "code",
   "execution_count": 44,
   "id": "148b183f",
   "metadata": {},
   "outputs": [
    {
     "data": {
      "text/plain": [
       "A    False\n",
       "B    False\n",
       "C     True\n",
       "D    False\n",
       "E    False\n",
       "F    False\n",
       "dtype: bool"
      ]
     },
     "execution_count": 44,
     "metadata": {},
     "output_type": "execute_result"
    }
   ],
   "source": [
    "ser.lt(2) #less than\n",
    "ser.gt(3) #greater than\n",
    "ser.eq(3) #equal\n",
    "# ne- not equal, ge(>=), le(<=)"
   ]
  },
  {
   "cell_type": "code",
   "execution_count": 48,
   "id": "12b9f7b0",
   "metadata": {},
   "outputs": [
    {
     "data": {
      "text/plain": [
       "6"
      ]
     },
     "execution_count": 48,
     "metadata": {},
     "output_type": "execute_result"
    }
   ],
   "source": [
    "ser.all() #true if all are true\n",
    "ser.any() #true if atleast 1 is true\n",
    "ser.between(1,3) #true for values b/w range\n",
    "ser.count() #count of elements"
   ]
  },
  {
   "cell_type": "code",
   "execution_count": 3,
   "id": "0a4e1d45",
   "metadata": {},
   "outputs": [
    {
     "data": {
      "text/plain": [
       "'a,b,c,d'"
      ]
     },
     "execution_count": 3,
     "metadata": {},
     "output_type": "execute_result"
    }
   ],
   "source": [
    "#join all elements of series\n",
    "ser= pd.Series(list(\"abcd\"))\n",
    "ser.str.cat(sep=\",\")"
   ]
  },
  {
   "cell_type": "code",
   "execution_count": null,
   "id": "a358484b",
   "metadata": {},
   "outputs": [],
   "source": []
  }
 ],
 "metadata": {
  "kernelspec": {
   "display_name": "Python 3 (ipykernel)",
   "language": "python",
   "name": "python3"
  },
  "language_info": {
   "codemirror_mode": {
    "name": "ipython",
    "version": 3
   },
   "file_extension": ".py",
   "mimetype": "text/x-python",
   "name": "python",
   "nbconvert_exporter": "python",
   "pygments_lexer": "ipython3",
   "version": "3.9.12"
  }
 },
 "nbformat": 4,
 "nbformat_minor": 5
}
