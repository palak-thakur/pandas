{
 "cells": [
  {
   "cell_type": "code",
   "execution_count": 2,
   "id": "1c58d8c3",
   "metadata": {},
   "outputs": [],
   "source": [
    "import numpy as np\n",
    "import pandas as pd"
   ]
  },
  {
   "cell_type": "code",
   "execution_count": 3,
   "id": "ca0a79a7",
   "metadata": {
    "scrolled": true
   },
   "outputs": [
    {
     "data": {
      "text/plain": [
       "a    2\n",
       "b    3\n",
       "c    5\n",
       "d    7\n",
       "e    5\n",
       "f    8\n",
       "g    3\n",
       "h    9\n",
       "i    8\n",
       "dtype: int64"
      ]
     },
     "execution_count": 3,
     "metadata": {},
     "output_type": "execute_result"
    }
   ],
   "source": [
    "ser= pd.Series([2, 3, 5, 7, 5, 8, 3, 9, 8], index= list(\"abcdefghi\"))\n",
    "ser"
   ]
  },
  {
   "cell_type": "code",
   "execution_count": 4,
   "id": "7734c45d",
   "metadata": {},
   "outputs": [
    {
     "data": {
      "text/plain": [
       "a    2\n",
       "b    3\n",
       "c    5\n",
       "d    7\n",
       "e    5\n",
       "f    8\n",
       "g    3\n",
       "h    9\n",
       "i    8\n",
       "dtype: int64"
      ]
     },
     "execution_count": 4,
     "metadata": {},
     "output_type": "execute_result"
    }
   ],
   "source": [
    "#deleting values\n",
    "ser.drop(['c', 'g'])\n",
    "ser"
   ]
  },
  {
   "cell_type": "code",
   "execution_count": 5,
   "id": "3d44cd17",
   "metadata": {},
   "outputs": [
    {
     "data": {
      "text/plain": [
       "a    2\n",
       "d    7\n",
       "e    5\n",
       "g    3\n",
       "h    9\n",
       "i    8\n",
       "dtype: int64"
      ]
     },
     "execution_count": 5,
     "metadata": {},
     "output_type": "execute_result"
    }
   ],
   "source": [
    "#duplicate values deletion\n",
    "#give new series\n",
    "ser.drop_duplicates() #duplicate values deleted first is kept\n",
    "ser.drop_duplicates(keep= 'last') #duplicate values deleted and last is kept\n",
    "# ser.drop_duplicates(keep= 'last', inplace= True), make changes in same series"
   ]
  },
  {
   "cell_type": "code",
   "execution_count": 6,
   "id": "2cbdf989",
   "metadata": {},
   "outputs": [
    {
     "data": {
      "text/plain": [
       "g    3\n",
       "h    9\n",
       "i    8\n",
       "dtype: int64"
      ]
     },
     "execution_count": 6,
     "metadata": {},
     "output_type": "execute_result"
    }
   ],
   "source": [
    "ser.head(3) #give 1st 3 values of series, by default give 5 values\n",
    "ser.tail(3) #give last 3 values of series, by default give 5 values"
   ]
  },
  {
   "cell_type": "code",
   "execution_count": 7,
   "id": "02c0d5b4",
   "metadata": {},
   "outputs": [
    {
     "data": {
      "text/plain": [
       "a    False\n",
       "b     True\n",
       "c     True\n",
       "d    False\n",
       "e     True\n",
       "f     True\n",
       "g     True\n",
       "h    False\n",
       "i     True\n",
       "dtype: bool"
      ]
     },
     "execution_count": 7,
     "metadata": {},
     "output_type": "execute_result"
    }
   ],
   "source": [
    "#return true for values in given list\n",
    "ser.isin([3,8,5]) "
   ]
  },
  {
   "cell_type": "code",
   "execution_count": 8,
   "id": "e736ef1c",
   "metadata": {},
   "outputs": [
    {
     "data": {
      "text/plain": [
       "aa    2\n",
       "bb    3\n",
       "cc    5\n",
       "dd    7\n",
       "ee    5\n",
       "ff    8\n",
       "gg    3\n",
       "hh    9\n",
       "ii    8\n",
       "dtype: int64"
      ]
     },
     "execution_count": 8,
     "metadata": {},
     "output_type": "execute_result"
    }
   ],
   "source": [
    "#creating neew series with different labels and same values\n",
    "ser.rename(lambda x: x*2)"
   ]
  },
  {
   "cell_type": "code",
   "execution_count": 9,
   "id": "3df34bf9",
   "metadata": {},
   "outputs": [
    {
     "data": {
      "text/plain": [
       "'My Series'"
      ]
     },
     "execution_count": 9,
     "metadata": {},
     "output_type": "execute_result"
    }
   ],
   "source": [
    "#giving name to series\n",
    "ser.rename(\"My Series\", inplace= True)\n",
    "ser.name"
   ]
  },
  {
   "cell_type": "code",
   "execution_count": 10,
   "id": "6a187c54",
   "metadata": {},
   "outputs": [
    {
     "data": {
      "text/plain": [
       "i    8\n",
       "c    5\n",
       "g    3\n",
       "Name: My Series, dtype: int64"
      ]
     },
     "execution_count": 10,
     "metadata": {},
     "output_type": "execute_result"
    }
   ],
   "source": [
    "#pick random elements from series\n",
    "ser.sample(n=3) #it will always pick different elements whenever you will run this \n",
    "ser.sample(n=3, random_state= 1) #it will pick same random elements whenever we run this "
   ]
  },
  {
   "cell_type": "code",
   "execution_count": 11,
   "id": "75a4a4f0",
   "metadata": {},
   "outputs": [
    {
     "data": {
      "text/plain": [
       "a    9\n",
       "b    3\n",
       "c    9\n",
       "d    9\n",
       "e    9\n",
       "f    9\n",
       "g    3\n",
       "h    9\n",
       "i    9\n",
       "Name: My Series, dtype: int64"
      ]
     },
     "execution_count": 11,
     "metadata": {},
     "output_type": "execute_result"
    }
   ],
   "source": [
    "#where and mask\n",
    "bl= ser.ne(3)\n",
    "ser.where(bl,9) #change value to 9 where bl is False\n",
    "ser.mask(bl,9)  #change value to 9 where bl is True"
   ]
  },
  {
   "cell_type": "code",
   "execution_count": 15,
   "id": "a68c6c8f",
   "metadata": {},
   "outputs": [
    {
     "name": "stdout",
     "output_type": "stream",
     "text": [
      "a    2\n",
      "b    3\n",
      "c    5\n",
      "d    7\n",
      "e    5\n",
      "f    8\n",
      "g    3\n",
      "h    9\n",
      "i    8\n",
      "Name: My Series, dtype: int64 a    2\n",
      "b    4\n",
      "c    6\n",
      "d    3\n",
      "e    8\n",
      "f    9\n",
      "g    3\n",
      "h    2\n",
      "i    5\n",
      "dtype: int64\n"
     ]
    },
    {
     "data": {
      "text/plain": [
       "a    2\n",
       "b    4\n",
       "c    6\n",
       "d    7\n",
       "e    8\n",
       "f    9\n",
       "g    3\n",
       "h    9\n",
       "i    8\n",
       "dtype: int64"
      ]
     },
     "execution_count": 15,
     "metadata": {},
     "output_type": "execute_result"
    }
   ],
   "source": [
    "#combine\n",
    "#combining to series to get 1 series\n",
    "ser1= pd.Series([2, 4, 6, 3, 8, 9, 3, 2, 5], index=list(\"abcdefghi\"))\n",
    "print(ser, ser1)\n",
    "ser.combine(ser1, max)"
   ]
  },
  {
   "cell_type": "code",
   "execution_count": 16,
   "id": "3df0b811",
   "metadata": {},
   "outputs": [
    {
     "data": {
      "text/plain": [
       "3    2\n",
       "5    2\n",
       "8    2\n",
       "2    1\n",
       "7    1\n",
       "9    1\n",
       "Name: My Series, dtype: int64"
      ]
     },
     "execution_count": 16,
     "metadata": {},
     "output_type": "execute_result"
    }
   ],
   "source": [
    "#counting values\n",
    "ser.value_counts()"
   ]
  },
  {
   "cell_type": "code",
   "execution_count": 18,
   "id": "cde98a6f",
   "metadata": {},
   "outputs": [
    {
     "data": {
      "text/plain": [
       "h    9\n",
       "f    8\n",
       "i    8\n",
       "d    7\n",
       "c    5\n",
       "e    5\n",
       "b    3\n",
       "g    3\n",
       "a    2\n",
       "Name: My Series, dtype: int64"
      ]
     },
     "execution_count": 18,
     "metadata": {},
     "output_type": "execute_result"
    }
   ],
   "source": [
    "#sorting\n",
    "ser.sort_values(ascending= False) #using inplace=True values will be sorted in same series"
   ]
  },
  {
   "cell_type": "code",
   "execution_count": 19,
   "id": "1f8255f0",
   "metadata": {},
   "outputs": [
    {
     "data": {
      "text/plain": [
       "a    2\n",
       "a    2\n",
       "b    3\n",
       "b    3\n",
       "c    5\n",
       "c    5\n",
       "d    7\n",
       "d    7\n",
       "e    5\n",
       "e    5\n",
       "f    8\n",
       "f    8\n",
       "g    3\n",
       "g    3\n",
       "h    9\n",
       "h    9\n",
       "i    8\n",
       "i    8\n",
       "Name: My Series, dtype: int64"
      ]
     },
     "execution_count": 19,
     "metadata": {},
     "output_type": "execute_result"
    }
   ],
   "source": [
    "#repeating series\n",
    "ser.repeat(repeats=2)"
   ]
  },
  {
   "cell_type": "code",
   "execution_count": 21,
   "id": "7e2a49a6",
   "metadata": {},
   "outputs": [],
   "source": [
    "#update\n",
    "#replace elements of 1 series with another where indexes are same\n",
    "ser2= pd.Series([2,3,4], index= list(\"adi\"))\n",
    "ser.update(ser2)"
   ]
  },
  {
   "cell_type": "code",
   "execution_count": 28,
   "id": "4aa359ae",
   "metadata": {},
   "outputs": [
    {
     "data": {
      "text/html": [
       "<div>\n",
       "<style scoped>\n",
       "    .dataframe tbody tr th:only-of-type {\n",
       "        vertical-align: middle;\n",
       "    }\n",
       "\n",
       "    .dataframe tbody tr th {\n",
       "        vertical-align: top;\n",
       "    }\n",
       "\n",
       "    .dataframe thead th {\n",
       "        text-align: right;\n",
       "    }\n",
       "</style>\n",
       "<table border=\"1\" class=\"dataframe\">\n",
       "  <thead>\n",
       "    <tr style=\"text-align: right;\">\n",
       "      <th></th>\n",
       "      <th>My Series</th>\n",
       "      <th>0</th>\n",
       "    </tr>\n",
       "  </thead>\n",
       "  <tbody>\n",
       "    <tr>\n",
       "      <th>a</th>\n",
       "      <td>2</td>\n",
       "      <td>2</td>\n",
       "    </tr>\n",
       "    <tr>\n",
       "      <th>b</th>\n",
       "      <td>3</td>\n",
       "      <td>4</td>\n",
       "    </tr>\n",
       "    <tr>\n",
       "      <th>c</th>\n",
       "      <td>5</td>\n",
       "      <td>6</td>\n",
       "    </tr>\n",
       "    <tr>\n",
       "      <th>d</th>\n",
       "      <td>3</td>\n",
       "      <td>3</td>\n",
       "    </tr>\n",
       "    <tr>\n",
       "      <th>e</th>\n",
       "      <td>5</td>\n",
       "      <td>8</td>\n",
       "    </tr>\n",
       "    <tr>\n",
       "      <th>f</th>\n",
       "      <td>8</td>\n",
       "      <td>9</td>\n",
       "    </tr>\n",
       "    <tr>\n",
       "      <th>g</th>\n",
       "      <td>3</td>\n",
       "      <td>3</td>\n",
       "    </tr>\n",
       "    <tr>\n",
       "      <th>h</th>\n",
       "      <td>9</td>\n",
       "      <td>2</td>\n",
       "    </tr>\n",
       "    <tr>\n",
       "      <th>i</th>\n",
       "      <td>4</td>\n",
       "      <td>5</td>\n",
       "    </tr>\n",
       "  </tbody>\n",
       "</table>\n",
       "</div>"
      ],
      "text/plain": [
       "   My Series  0\n",
       "a          2  2\n",
       "b          3  4\n",
       "c          5  6\n",
       "d          3  3\n",
       "e          5  8\n",
       "f          8  9\n",
       "g          3  3\n",
       "h          9  2\n",
       "i          4  5"
      ]
     },
     "execution_count": 28,
     "metadata": {},
     "output_type": "execute_result"
    }
   ],
   "source": [
    "#concate\n",
    "pd.concat([ser, ser2])\n",
    "#concat horizontally and create a dataframe\n",
    "pd.concat([ser, ser1], axis=1)"
   ]
  },
  {
   "cell_type": "code",
   "execution_count": null,
   "id": "18dbfe73",
   "metadata": {},
   "outputs": [],
   "source": []
  }
 ],
 "metadata": {
  "kernelspec": {
   "display_name": "Python 3 (ipykernel)",
   "language": "python",
   "name": "python3"
  },
  "language_info": {
   "codemirror_mode": {
    "name": "ipython",
    "version": 3
   },
   "file_extension": ".py",
   "mimetype": "text/x-python",
   "name": "python",
   "nbconvert_exporter": "python",
   "pygments_lexer": "ipython3",
   "version": "3.9.12"
  }
 },
 "nbformat": 4,
 "nbformat_minor": 5
}
