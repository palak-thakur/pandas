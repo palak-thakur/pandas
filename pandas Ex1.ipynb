{
 "cells": [
  {
   "cell_type": "code",
   "execution_count": 3,
   "id": "64a319ac",
   "metadata": {},
   "outputs": [],
   "source": [
    "import numpy as np\n",
    "import pandas as pd"
   ]
  },
  {
   "cell_type": "code",
   "execution_count": 4,
   "id": "49152e5d",
   "metadata": {},
   "outputs": [
    {
     "data": {
      "text/html": [
       "<div>\n",
       "<style scoped>\n",
       "    .dataframe tbody tr th:only-of-type {\n",
       "        vertical-align: middle;\n",
       "    }\n",
       "\n",
       "    .dataframe tbody tr th {\n",
       "        vertical-align: top;\n",
       "    }\n",
       "\n",
       "    .dataframe thead th {\n",
       "        text-align: right;\n",
       "    }\n",
       "</style>\n",
       "<table border=\"1\" class=\"dataframe\">\n",
       "  <thead>\n",
       "    <tr style=\"text-align: right;\">\n",
       "      <th></th>\n",
       "      <th>Name</th>\n",
       "      <th>Marks</th>\n",
       "    </tr>\n",
       "  </thead>\n",
       "  <tbody>\n",
       "    <tr>\n",
       "      <th>1</th>\n",
       "      <td>Miss Mikasa</td>\n",
       "      <td>90.0</td>\n",
       "    </tr>\n",
       "    <tr>\n",
       "      <th>2</th>\n",
       "      <td>Mr. Eren</td>\n",
       "      <td>100.0</td>\n",
       "    </tr>\n",
       "    <tr>\n",
       "      <th>3</th>\n",
       "      <td>Mr. Levi</td>\n",
       "      <td>99.9</td>\n",
       "    </tr>\n",
       "    <tr>\n",
       "      <th>4</th>\n",
       "      <td>Miss Annie</td>\n",
       "      <td>95.0</td>\n",
       "    </tr>\n",
       "    <tr>\n",
       "      <th>5</th>\n",
       "      <td>Mr. Armin</td>\n",
       "      <td>90.0</td>\n",
       "    </tr>\n",
       "  </tbody>\n",
       "</table>\n",
       "</div>"
      ],
      "text/plain": [
       "          Name  Marks\n",
       "1  Miss Mikasa   90.0\n",
       "2     Mr. Eren  100.0\n",
       "3     Mr. Levi   99.9\n",
       "4   Miss Annie   95.0\n",
       "5    Mr. Armin   90.0"
      ]
     },
     "execution_count": 4,
     "metadata": {},
     "output_type": "execute_result"
    }
   ],
   "source": [
    "#Dataframe of student names and marks\n",
    "ls=[\"Miss Mikasa\", \"Mr. Eren\", \"Mr. Levi\", \"Miss Annie\", \"Mr. Armin\"]\n",
    "ls2=[90, 100, 99.9,95, 90]\n",
    "st= pd.DataFrame({\"Name\":ls, \"Marks\":ls2}, index=np.arange(1,6))\n",
    "st"
   ]
  },
  {
   "cell_type": "code",
   "execution_count": 11,
   "id": "43a85890",
   "metadata": {},
   "outputs": [
    {
     "data": {
      "text/plain": [
       "1    Miss Mikasa\n",
       "4     Miss Annie\n",
       "Name: Name, dtype: object"
      ]
     },
     "execution_count": 11,
     "metadata": {},
     "output_type": "execute_result"
    }
   ],
   "source": [
    "#print the name females\n",
    "bl= st.Name.str.startswith('Miss')\n",
    "st.loc[bl, 'Name']"
   ]
  },
  {
   "cell_type": "code",
   "execution_count": 9,
   "id": "147f232c",
   "metadata": {},
   "outputs": [
    {
     "data": {
      "text/plain": [
       "3"
      ]
     },
     "execution_count": 9,
     "metadata": {},
     "output_type": "execute_result"
    }
   ],
   "source": [
    "#count the number of males\n",
    "st.Name.str.startswith(\"Mr.\").sum()"
   ]
  },
  {
   "cell_type": "code",
   "execution_count": 12,
   "id": "b6f75723",
   "metadata": {},
   "outputs": [
    {
     "data": {
      "text/plain": [
       "94.97999999999999"
      ]
     },
     "execution_count": 12,
     "metadata": {},
     "output_type": "execute_result"
    }
   ],
   "source": [
    "#find average marks\n",
    "st.Marks.mean()"
   ]
  },
  {
   "cell_type": "code",
   "execution_count": 14,
   "id": "edfb834c",
   "metadata": {},
   "outputs": [
    {
     "data": {
      "text/plain": [
       "92.5"
      ]
     },
     "execution_count": 14,
     "metadata": {},
     "output_type": "execute_result"
    }
   ],
   "source": [
    "#average marks of female\n",
    "bl= st.Name.str.startswith('Miss')\n",
    "st.loc[bl,'Marks'].mean()"
   ]
  },
  {
   "cell_type": "code",
   "execution_count": 6,
   "id": "0c0d542a",
   "metadata": {},
   "outputs": [
    {
     "data": {
      "text/plain": [
       "2    Mr. Eren\n",
       "Name: Name, dtype: object"
      ]
     },
     "execution_count": 6,
     "metadata": {},
     "output_type": "execute_result"
    }
   ],
   "source": [
    "mx=st.Marks==st.Marks.max()\n",
    "st.loc[mx, 'Name']"
   ]
  },
  {
   "cell_type": "code",
   "execution_count": null,
   "id": "50499ac2",
   "metadata": {},
   "outputs": [],
   "source": []
  }
 ],
 "metadata": {
  "kernelspec": {
   "display_name": "Python 3 (ipykernel)",
   "language": "python",
   "name": "python3"
  },
  "language_info": {
   "codemirror_mode": {
    "name": "ipython",
    "version": 3
   },
   "file_extension": ".py",
   "mimetype": "text/x-python",
   "name": "python",
   "nbconvert_exporter": "python",
   "pygments_lexer": "ipython3",
   "version": "3.9.12"
  }
 },
 "nbformat": 4,
 "nbformat_minor": 5
}
