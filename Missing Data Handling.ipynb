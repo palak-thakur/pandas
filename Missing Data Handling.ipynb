{
 "cells": [
  {
   "cell_type": "code",
   "execution_count": 1,
   "id": "dea79d27",
   "metadata": {},
   "outputs": [],
   "source": [
    "import numpy as np\n",
    "import pandas as pd"
   ]
  },
  {
   "cell_type": "code",
   "execution_count": 11,
   "id": "132e4410",
   "metadata": {},
   "outputs": [
    {
     "data": {
      "text/plain": [
       "0    2.0\n",
       "1    4.0\n",
       "2    6.0\n",
       "3    NaN\n",
       "4    4.0\n",
       "5    5.0\n",
       "6    NaN\n",
       "dtype: float64"
      ]
     },
     "execution_count": 11,
     "metadata": {},
     "output_type": "execute_result"
    }
   ],
   "source": [
    "ser= pd.Series([2, 4, 6, np.NaN, 4, 5, np.NaN])\n",
    "ser #this will return a float series because nan is float"
   ]
  },
  {
   "cell_type": "code",
   "execution_count": 4,
   "id": "165a9a88",
   "metadata": {},
   "outputs": [
    {
     "data": {
      "text/plain": [
       "0     True\n",
       "1     True\n",
       "2     True\n",
       "3    False\n",
       "4     True\n",
       "5     True\n",
       "6    False\n",
       "dtype: bool"
      ]
     },
     "execution_count": 4,
     "metadata": {},
     "output_type": "execute_result"
    }
   ],
   "source": [
    "#bool for nan value series\n",
    "ser.isna() #return true for nan values\n",
    "ser.notna() #return false for nan values\n"
   ]
  },
  {
   "cell_type": "code",
   "execution_count": 10,
   "id": "9a8285f8",
   "metadata": {},
   "outputs": [
    {
     "data": {
      "text/plain": [
       "0    2.0\n",
       "1    4.0\n",
       "2    6.0\n",
       "3    6.0\n",
       "4    4.0\n",
       "5    5.0\n",
       "6    5.0\n",
       "7    5.0\n",
       "dtype: float64"
      ]
     },
     "execution_count": 10,
     "metadata": {},
     "output_type": "execute_result"
    }
   ],
   "source": [
    "#giving values to nan\n",
    "#to make changes in same series use inplace= True\n",
    "ser.fillna(7) #fill nan value with 7\n",
    "ser.fillna(method=\"ffill\") #fill nan value with upper value\n",
    "ser.fillna(method= \"bfill\") #fill nan value with lower value"
   ]
  },
  {
   "cell_type": "code",
   "execution_count": 12,
   "id": "d0a60e19",
   "metadata": {},
   "outputs": [
    {
     "data": {
      "text/plain": [
       "0    2.0\n",
       "1    4.0\n",
       "2    6.0\n",
       "4    4.0\n",
       "5    5.0\n",
       "dtype: float64"
      ]
     },
     "execution_count": 12,
     "metadata": {},
     "output_type": "execute_result"
    }
   ],
   "source": [
    "#deleting nan value\n",
    "ser.dropna()"
   ]
  },
  {
   "cell_type": "code",
   "execution_count": null,
   "id": "761528cc",
   "metadata": {},
   "outputs": [],
   "source": []
  }
 ],
 "metadata": {
  "kernelspec": {
   "display_name": "Python 3 (ipykernel)",
   "language": "python",
   "name": "python3"
  },
  "language_info": {
   "codemirror_mode": {
    "name": "ipython",
    "version": 3
   },
   "file_extension": ".py",
   "mimetype": "text/x-python",
   "name": "python",
   "nbconvert_exporter": "python",
   "pygments_lexer": "ipython3",
   "version": "3.9.12"
  }
 },
 "nbformat": 4,
 "nbformat_minor": 5
}
